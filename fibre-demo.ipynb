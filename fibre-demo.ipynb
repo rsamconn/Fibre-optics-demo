{
 "cells": [
  {
   "cell_type": "markdown",
   "id": "46bdf595",
   "metadata": {},
   "source": [
    "# Data Analysis - Irradiation of a Fibre Optic Sensor\n",
    "Measuring humidity in radioactive environments is challenging because - as you might expect - the radiation is massively damaging to sensors. Most commercial humidity sensors are electronic, get wiped out by even a small dose of radiation. \n",
    "<!-- This presents a problem for measuring humidity in many environments with high radiation - in space, in nuclear industries and in high energy physics experiments. -->\n",
    "<!-- (What commercial sensors?\n",
    "How much radiation kills them??) -->\n",
    "\n",
    "However, recently a new type of technology has emerged for these cases - fibre optic sensors (FOS). These can survive radiation doses up to the Mega-Gray (MGy) level while still giving a clear signal. Even better, the change in the signal itself can actually be used to measure the radiation dose. Combined with recent breakthroughs in FOS for measuring humidity, these sensors present an exciting potential product with applications in areas such as nuclear industry, high energy physics research, and space travel.\n",
    "<!-- Link to FOS radiation studies\n",
    "Link to LPG humidity studies\n",
    "How much damage would MGy do to a person? -->\n",
    "\n",
    "This project will take you through analysis of a sensor under irradiation, using real data recorded from the IRRAD facility in CERN, Geneva, using bleeding-edge long period grating sensors.\n",
    "<!-- Link IRRAD -->"
   ]
  },
  {
   "cell_type": "code",
   "execution_count": null,
   "id": "fe5dbf4e",
   "metadata": {
    "vscode": {
     "languageId": "plaintext"
    }
   },
   "outputs": [],
   "source": []
  }
 ],
 "metadata": {
  "language_info": {
   "name": "python"
  }
 },
 "nbformat": 4,
 "nbformat_minor": 5
}
