{
 "cells": [
  {
   "cell_type": "markdown",
   "id": "46bdf595",
   "metadata": {},
   "source": [
    "# Data Analysis - Irradiation of a Fibre Optic Sensor\n",
    "Measuring humidity in radioactive environments is challenging because - as you might expect - the radiation is massively damaging to sensors. Most commercial humidity sensors are electronic (HIH??), get wiped out by even a small dose of radiation (how much??).\n",
    "\n",
    "This project will take you through the "
   ]
  }
 ],
 "metadata": {
  "language_info": {
   "name": "python"
  }
 },
 "nbformat": 4,
 "nbformat_minor": 5
}
