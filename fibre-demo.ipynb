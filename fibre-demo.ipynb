{
 "cells": [
  {
   "cell_type": "markdown",
   "id": "46bdf595",
   "metadata": {},
   "source": [
    "# Data Analysis - Irradiation of a Fibre Optic Sensor\n",
    "Measuring humidity in radioactive environments is challenging because, as you might expect, the radiation is massively damaging to sensors. Most commercial humidity sensors are electronic and get wiped out by even a small dose of radiation. \n",
    "<!-- This presents a problem for measuring humidity in many environments with high radiation - in space, in nuclear industries and in high energy physics experiments. -->\n",
    "<!-- (What commercial sensors?\n",
    "How much radiation kills them??) -->\n",
    "\n",
    "However, recently a new type of technology has emerged for these cases - fibre optic sensors (FOS). These can survive radiation doses up to the Mega-Gray (MGy) level while still giving a clear signal. Even better, the change in the signal itself can actually be used to measure the radiation dose. Combined with recent breakthroughs in FOS for measuring humidity, these sensors present an exciting potential product with applications in areas such as nuclear industry, high energy physics research, and space travel.\n",
    "<!-- Link to FOS radiation studies\n",
    "Link to LPG humidity studies\n",
    "How much damage would MGy do to a person? -->\n",
    "\n",
    "This project will take you through analysis of a sensor under irradiation, using real data recorded at the [PS-IRRAD facility](https://ps-irrad.web.cern.ch/ps-irrad/) in CERN, Geneva, SWitzerland."
   ]
  },
  {
   "cell_type": "markdown",
   "id": "911029aa",
   "metadata": {},
   "source": [
    "## EDA\n",
    "- 4 datasets in `irrad-demo-data/`:\n",
    "    - `spectra.txt` - a series of spectra, each containing 20,000 points\n",
    "    - `hyperion-transmission-spectrum.txt` - a single spectrum of 20,000 points\n",
    "    - `SEC_data_06-11_09_2023.csv` - data from the IRRAD facility recording the dose rate over time\n",
    "    - `times.txt` - A series of time values, each corresponding to a spectrum from `spectra.txt`"
   ]
  },
  {
   "cell_type": "code",
   "execution_count": null,
   "id": "297ae89c",
   "metadata": {},
   "outputs": [],
   "source": [
    "# Let's take a look at the data"
   ]
  },
  {
   "cell_type": "code",
   "execution_count": null,
   "id": "1d5101f1",
   "metadata": {},
   "outputs": [],
   "source": [
    "# Import the data\n",
    "import pandas as pd\n",
    "import numpy as np\n",
    "# Load the data\n",
    "data_dir = 'irrad-demo-data/'\n",
    "spectra = np.loadtxt(data_dir + 'spectra.txt', delimiter=',')\n",
    "times = np.loadtxt(data_dir + 'times.txt')\n",
    "baseline = np.loadtxt(data_dir + 'hyperion-transmission-spectrum.txt')\n",
    "irradiation_df = pd.read_csv(data_dir + 'SEC_data_06-11_09_2023.csv')"
   ]
  },
  {
   "cell_type": "code",
   "execution_count": 2,
   "id": "b05cb7cc",
   "metadata": {},
   "outputs": [
    {
     "data": {
      "text/html": [
       "<div>\n",
       "<style scoped>\n",
       "    .dataframe tbody tr th:only-of-type {\n",
       "        vertical-align: middle;\n",
       "    }\n",
       "\n",
       "    .dataframe tbody tr th {\n",
       "        vertical-align: top;\n",
       "    }\n",
       "\n",
       "    .dataframe thead th {\n",
       "        text-align: right;\n",
       "    }\n",
       "</style>\n",
       "<table border=\"1\" class=\"dataframe\">\n",
       "  <thead>\n",
       "    <tr style=\"text-align: right;\">\n",
       "      <th></th>\n",
       "      <th>SEC_ID</th>\n",
       "      <th>TIMESTAMP</th>\n",
       "      <th>SEC_counts</th>\n",
       "    </tr>\n",
       "  </thead>\n",
       "  <tbody>\n",
       "    <tr>\n",
       "      <th>0</th>\n",
       "      <td>SEC_01</td>\n",
       "      <td>11-SEP-23 11.49.12</td>\n",
       "      <td>25376</td>\n",
       "    </tr>\n",
       "    <tr>\n",
       "      <th>1</th>\n",
       "      <td>SEC_01</td>\n",
       "      <td>11-SEP-23 11.49.01</td>\n",
       "      <td>25574</td>\n",
       "    </tr>\n",
       "    <tr>\n",
       "      <th>2</th>\n",
       "      <td>SEC_01</td>\n",
       "      <td>11-SEP-23 11.48.53</td>\n",
       "      <td>25340</td>\n",
       "    </tr>\n",
       "    <tr>\n",
       "      <th>3</th>\n",
       "      <td>SEC_01</td>\n",
       "      <td>11-SEP-23 11.48.48</td>\n",
       "      <td>25320</td>\n",
       "    </tr>\n",
       "    <tr>\n",
       "      <th>4</th>\n",
       "      <td>SEC_01</td>\n",
       "      <td>11-SEP-23 11.48.31</td>\n",
       "      <td>25269</td>\n",
       "    </tr>\n",
       "  </tbody>\n",
       "</table>\n",
       "</div>"
      ],
      "text/plain": [
       "   SEC_ID           TIMESTAMP  SEC_counts\n",
       "0  SEC_01  11-SEP-23 11.49.12       25376\n",
       "1  SEC_01  11-SEP-23 11.49.01       25574\n",
       "2  SEC_01  11-SEP-23 11.48.53       25340\n",
       "3  SEC_01  11-SEP-23 11.48.48       25320\n",
       "4  SEC_01  11-SEP-23 11.48.31       25269"
      ]
     },
     "execution_count": 2,
     "metadata": {},
     "output_type": "execute_result"
    }
   ],
   "source": [
    "irradiation_df.head()"
   ]
  },
  {
   "cell_type": "code",
   "execution_count": 6,
   "id": "d877df4a",
   "metadata": {},
   "outputs": [
    {
     "name": "stdout",
     "output_type": "stream",
     "text": [
      "spectra.txt shape: (48, 20000)\n",
      "times.txt shape: (48,)\n",
      "hyperion-transmission-spectrum.txt shape: (20000,)\n",
      "SEC_data_06-11_09_2023.csv shape: (31039, 3)\n"
     ]
    }
   ],
   "source": [
    "data_dict = {\n",
    "    'spectra.txt': spectra,\n",
    "    'times.txt': times,\n",
    "    'hyperion-transmission-spectrum.txt': baseline,\n",
    "    'SEC_data_06-11_09_2023.csv': irradiation_df\n",
    "}\n",
    "for file in data_dict.keys():\n",
    "    print(f\"{file} shape: {np.shape(data_dict[file])}\")"
   ]
  },
  {
   "cell_type": "markdown",
   "id": "052602d5",
   "metadata": {},
   "source": [
    "So it looks like we have 48 time steps, and our irradiation data has 3 columns of over 31k rows"
   ]
  },
  {
   "cell_type": "code",
   "execution_count": null,
   "id": "db6b015d",
   "metadata": {},
   "outputs": [],
   "source": []
  },
  {
   "cell_type": "code",
   "execution_count": null,
   "id": "ea3ed095",
   "metadata": {},
   "outputs": [],
   "source": []
  }
 ],
 "metadata": {
  "kernelspec": {
   "display_name": "root_env",
   "language": "python",
   "name": "python3"
  },
  "language_info": {
   "codemirror_mode": {
    "name": "ipython",
    "version": 3
   },
   "file_extension": ".py",
   "mimetype": "text/x-python",
   "name": "python",
   "nbconvert_exporter": "python",
   "pygments_lexer": "ipython3",
   "version": "3.11.3"
  }
 },
 "nbformat": 4,
 "nbformat_minor": 5
}
